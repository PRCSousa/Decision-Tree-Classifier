{
 "cells": [
  {
   "cell_type": "code",
   "execution_count": 1,
   "metadata": {},
   "outputs": [],
   "source": [
    "from Dataframe import *\n",
    "from DecisionTreeClassifier import *\n"
   ]
  },
  {
   "cell_type": "code",
   "execution_count": 2,
   "metadata": {},
   "outputs": [
    {
     "name": "stdout",
     "output_type": "stream",
     "text": [
      "<generator object DecisionTreeLearner.<locals>.information_gain.<locals>.I.<locals>.<genexpr> at 0x0000015209CB3DD0>\n",
      "[0, 0, 0, 0, 0, 1]\n"
     ]
    },
    {
     "ename": "ValueError",
     "evalue": "math domain error",
     "output_type": "error",
     "traceback": [
      "\u001b[1;31m---------------------------------------------------------------------------\u001b[0m",
      "\u001b[1;31mValueError\u001b[0m                                Traceback (most recent call last)",
      "\u001b[1;32mc:\\Users\\pedro\\Documents\\Code\\Decision Tree Classifier\\teste.ipynb Cell 2\u001b[0m in \u001b[0;36m<cell line: 5>\u001b[1;34m()\u001b[0m\n\u001b[0;32m      <a href='vscode-notebook-cell:/c%3A/Users/pedro/Documents/Code/Decision%20Tree%20Classifier/teste.ipynb#W1sZmlsZQ%3D%3D?line=1'>2</a>\u001b[0m iris\u001b[39m.\u001b[39mread_csv()\n\u001b[0;32m      <a href='vscode-notebook-cell:/c%3A/Users/pedro/Documents/Code/Decision%20Tree%20Classifier/teste.ipynb#W1sZmlsZQ%3D%3D?line=2'>3</a>\u001b[0m mat \u001b[39m=\u001b[39m iris\u001b[39m.\u001b[39mget_dataframe()\n\u001b[1;32m----> <a href='vscode-notebook-cell:/c%3A/Users/pedro/Documents/Code/Decision%20Tree%20Classifier/teste.ipynb#W1sZmlsZQ%3D%3D?line=4'>5</a>\u001b[0m weather \u001b[39m=\u001b[39m DecisionTreeLearner(iris)\n",
      "File \u001b[1;32mc:\\Users\\pedro\\Documents\\Code\\Decision Tree Classifier\\DecisionTreeClassifier.py:135\u001b[0m, in \u001b[0;36mDecisionTreeLearner\u001b[1;34m(dataset)\u001b[0m\n\u001b[0;32m    132\u001b[0m         soma \u001b[39m+\u001b[39m\u001b[39m=\u001b[39m v \u001b[39m/\u001b[39m \u001b[39msum\u001b[39m(values) \u001b[39m+\u001b[39m math\u001b[39m.\u001b[39mlog2(v \u001b[39m/\u001b[39m \u001b[39msum\u001b[39m(values))\n\u001b[0;32m    133\u001b[0m     \u001b[39mreturn\u001b[39;00m soma\n\u001b[1;32m--> 135\u001b[0m \u001b[39mreturn\u001b[39;00m decision_tree_learning(dataset\u001b[39m.\u001b[39;49mget_data(), dataset\u001b[39m.\u001b[39;49matributos)\n",
      "File \u001b[1;32mc:\\Users\\pedro\\Documents\\Code\\Decision Tree Classifier\\DecisionTreeClassifier.py:74\u001b[0m, in \u001b[0;36mDecisionTreeLearner.<locals>.decision_tree_learning\u001b[1;34m(examples, attrs, parent_examples)\u001b[0m\n\u001b[0;32m     71\u001b[0m \u001b[39mif\u001b[39;00m \u001b[39mlen\u001b[39m(attrs) \u001b[39m==\u001b[39m \u001b[39m0\u001b[39m:\n\u001b[0;32m     72\u001b[0m     \u001b[39mreturn\u001b[39;00m plurality_value(examples)\n\u001b[1;32m---> 74\u001b[0m A \u001b[39m=\u001b[39m choose_attribute(attrs, examples)\n\u001b[0;32m     76\u001b[0m tree \u001b[39m=\u001b[39m DecisionFork(A, dataset\u001b[39m.\u001b[39mattr_names[A], plurality_value(examples))\n\u001b[0;32m     78\u001b[0m \u001b[39mfor\u001b[39;00m (v_k, exs) \u001b[39min\u001b[39;00m split_by(A, examples):\n",
      "File \u001b[1;32mc:\\Users\\pedro\\Documents\\Code\\Decision Tree Classifier\\DecisionTreeClassifier.py:105\u001b[0m, in \u001b[0;36mDecisionTreeLearner.<locals>.choose_attribute\u001b[1;34m(attrs, examples)\u001b[0m\n\u001b[0;32m    103\u001b[0m \u001b[39m\"\"\"Choose the attribute with the highest information gain.\"\"\"\u001b[39;00m\n\u001b[0;32m    104\u001b[0m \u001b[39m# return the attr with the highest information gain w/o using argmax\u001b[39;00m\n\u001b[1;32m--> 105\u001b[0m \u001b[39mreturn\u001b[39;00m \u001b[39mmax\u001b[39;49m(attrs, key\u001b[39m=\u001b[39;49m\u001b[39mlambda\u001b[39;49;00m a: information_gain(a, examples))\n",
      "File \u001b[1;32mc:\\Users\\pedro\\Documents\\Code\\Decision Tree Classifier\\DecisionTreeClassifier.py:105\u001b[0m, in \u001b[0;36mDecisionTreeLearner.<locals>.choose_attribute.<locals>.<lambda>\u001b[1;34m(a)\u001b[0m\n\u001b[0;32m    103\u001b[0m \u001b[39m\"\"\"Choose the attribute with the highest information gain.\"\"\"\u001b[39;00m\n\u001b[0;32m    104\u001b[0m \u001b[39m# return the attr with the highest information gain w/o using argmax\u001b[39;00m\n\u001b[1;32m--> 105\u001b[0m \u001b[39mreturn\u001b[39;00m \u001b[39mmax\u001b[39m(attrs, key\u001b[39m=\u001b[39m\u001b[39mlambda\u001b[39;00m a: information_gain(a, examples))\n",
      "File \u001b[1;32mc:\\Users\\pedro\\Documents\\Code\\Decision Tree Classifier\\DecisionTreeClassifier.py:119\u001b[0m, in \u001b[0;36mDecisionTreeLearner.<locals>.information_gain\u001b[1;34m(attr, examples)\u001b[0m\n\u001b[0;32m    116\u001b[0m     \u001b[39mreturn\u001b[39;00m information_content([count(target, v, examples) \u001b[39mfor\u001b[39;00m v \u001b[39min\u001b[39;00m values[target]])\n\u001b[0;32m    118\u001b[0m n \u001b[39m=\u001b[39m \u001b[39mlen\u001b[39m(examples)\n\u001b[1;32m--> 119\u001b[0m remainder \u001b[39m=\u001b[39m \u001b[39msum\u001b[39;49m((\u001b[39mlen\u001b[39;49m(examples_i) \u001b[39m/\u001b[39;49m n) \u001b[39m*\u001b[39;49m I(examples_i) \u001b[39mfor\u001b[39;49;00m (v, examples_i) \u001b[39min\u001b[39;49;00m split_by(attr, examples))\n\u001b[0;32m    120\u001b[0m \u001b[39mreturn\u001b[39;00m I(examples) \u001b[39m-\u001b[39m remainder\n",
      "File \u001b[1;32mc:\\Users\\pedro\\Documents\\Code\\Decision Tree Classifier\\DecisionTreeClassifier.py:119\u001b[0m, in \u001b[0;36m<genexpr>\u001b[1;34m(.0)\u001b[0m\n\u001b[0;32m    116\u001b[0m     \u001b[39mreturn\u001b[39;00m information_content([count(target, v, examples) \u001b[39mfor\u001b[39;00m v \u001b[39min\u001b[39;00m values[target]])\n\u001b[0;32m    118\u001b[0m n \u001b[39m=\u001b[39m \u001b[39mlen\u001b[39m(examples)\n\u001b[1;32m--> 119\u001b[0m remainder \u001b[39m=\u001b[39m \u001b[39msum\u001b[39m((\u001b[39mlen\u001b[39m(examples_i) \u001b[39m/\u001b[39m n) \u001b[39m*\u001b[39m I(examples_i) \u001b[39mfor\u001b[39;00m (v, examples_i) \u001b[39min\u001b[39;00m split_by(attr, examples))\n\u001b[0;32m    120\u001b[0m \u001b[39mreturn\u001b[39;00m I(examples) \u001b[39m-\u001b[39m remainder\n",
      "File \u001b[1;32mc:\\Users\\pedro\\Documents\\Code\\Decision Tree Classifier\\DecisionTreeClassifier.py:116\u001b[0m, in \u001b[0;36mDecisionTreeLearner.<locals>.information_gain.<locals>.I\u001b[1;34m(examples)\u001b[0m\n\u001b[0;32m    114\u001b[0m \u001b[39mfor\u001b[39;00m v \u001b[39min\u001b[39;00m ste:\n\u001b[0;32m    115\u001b[0m     \u001b[39mprint\u001b[39m(v)\n\u001b[1;32m--> 116\u001b[0m \u001b[39mreturn\u001b[39;00m information_content([count(target, v, examples) \u001b[39mfor\u001b[39;49;00m v \u001b[39min\u001b[39;49;00m values[target]])\n",
      "File \u001b[1;32mc:\\Users\\pedro\\Documents\\Code\\Decision Tree Classifier\\DecisionTreeClassifier.py:132\u001b[0m, in \u001b[0;36mDecisionTreeLearner.<locals>.information_content\u001b[1;34m(values)\u001b[0m\n\u001b[0;32m    130\u001b[0m soma \u001b[39m=\u001b[39m \u001b[39m0\u001b[39m\n\u001b[0;32m    131\u001b[0m \u001b[39mfor\u001b[39;00m v \u001b[39min\u001b[39;00m values:\n\u001b[1;32m--> 132\u001b[0m     soma \u001b[39m+\u001b[39m\u001b[39m=\u001b[39m v \u001b[39m/\u001b[39m \u001b[39msum\u001b[39m(values) \u001b[39m+\u001b[39m math\u001b[39m.\u001b[39;49mlog2(v \u001b[39m/\u001b[39;49m \u001b[39msum\u001b[39;49m(values))\n\u001b[0;32m    133\u001b[0m \u001b[39mreturn\u001b[39;00m soma\n",
      "\u001b[1;31mValueError\u001b[0m: math domain error"
     ]
    }
   ],
   "source": [
    "iris = DataFrame(\"datasets/iris.csv\")\n",
    "iris.read_csv()\n",
    "mat = iris.get_dataframe()\n",
    "\n",
    "weather = DecisionTreeLearner(iris)"
   ]
  }
 ],
 "metadata": {
  "kernelspec": {
   "display_name": "Python 3",
   "language": "python",
   "name": "python3"
  },
  "language_info": {
   "codemirror_mode": {
    "name": "ipython",
    "version": 3
   },
   "file_extension": ".py",
   "mimetype": "text/x-python",
   "name": "python",
   "nbconvert_exporter": "python",
   "pygments_lexer": "ipython3",
   "version": "3.9.13"
  },
  "orig_nbformat": 4
 },
 "nbformat": 4,
 "nbformat_minor": 2
}
