{
 "cells": [
  {
   "cell_type": "code",
   "execution_count": 8,
   "metadata": {},
   "outputs": [],
   "source": [
    "from Dataframe import *"
   ]
  },
  {
   "cell_type": "code",
   "execution_count": 9,
   "metadata": {},
   "outputs": [
    {
     "ename": "AttributeError",
     "evalue": "'Dataframe' object has no attribute 'dropna'",
     "output_type": "error",
     "traceback": [
      "\u001b[1;31m---------------------------------------------------------------------------\u001b[0m",
      "\u001b[1;31mAttributeError\u001b[0m                            Traceback (most recent call last)",
      "\u001b[1;32mc:\\Users\\pedro\\Documents\\Code\\Decision Tree Classifier\\teste.ipynb Cell 2\u001b[0m in \u001b[0;36m<cell line: 8>\u001b[1;34m()\u001b[0m\n\u001b[0;32m      <a href='vscode-notebook-cell:/c%3A/Users/pedro/Documents/Code/Decision%20Tree%20Classifier/teste.ipynb#W1sZmlsZQ%3D%3D?line=5'>6</a>\u001b[0m iris\u001b[39m.\u001b[39mread_csv()\n\u001b[0;32m      <a href='vscode-notebook-cell:/c%3A/Users/pedro/Documents/Code/Decision%20Tree%20Classifier/teste.ipynb#W1sZmlsZQ%3D%3D?line=6'>7</a>\u001b[0m mat \u001b[39m=\u001b[39m iris\u001b[39m.\u001b[39mget_dataframe()\n\u001b[1;32m----> <a href='vscode-notebook-cell:/c%3A/Users/pedro/Documents/Code/Decision%20Tree%20Classifier/teste.ipynb#W1sZmlsZQ%3D%3D?line=7'>8</a>\u001b[0m iris\u001b[39m.\u001b[39;49mdropna(\u001b[39m0\u001b[39m)\n",
      "\u001b[1;31mAttributeError\u001b[0m: 'Dataframe' object has no attribute 'dropna'"
     ]
    }
   ],
   "source": [
    "weather = Dataframe(\"datasets/weather.csv\")\n",
    "weather.read_csv()\n",
    "mat = weather.get_dataframe()\n",
    "\n",
    "iris = Dataframe(\"datasets/iris.csv\")\n",
    "iris.read_csv()\n",
    "mat = iris.get_dataframe()\n",
    "iris.dropna()\n"
   ]
  }
 ],
 "metadata": {
  "kernelspec": {
   "display_name": "Python 3",
   "language": "python",
   "name": "python3"
  },
  "language_info": {
   "codemirror_mode": {
    "name": "ipython",
    "version": 3
   },
   "file_extension": ".py",
   "mimetype": "text/x-python",
   "name": "python",
   "nbconvert_exporter": "python",
   "pygments_lexer": "ipython3",
   "version": "3.9.13"
  },
  "orig_nbformat": 4
 },
 "nbformat": 4,
 "nbformat_minor": 2
}
